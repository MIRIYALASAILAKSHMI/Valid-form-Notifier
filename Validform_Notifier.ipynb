{
  "nbformat": 4,
  "nbformat_minor": 0,
  "metadata": {
    "colab": {
      "provenance": []
    },
    "kernelspec": {
      "name": "python3",
      "display_name": "Python 3"
    },
    "language_info": {
      "name": "python"
    }
  },
  "cells": [
    {
      "cell_type": "code",
      "execution_count": 5,
      "metadata": {
        "colab": {
          "base_uri": "https://localhost:8080/"
        },
        "id": "8f9snISv05_Y",
        "outputId": "4467f96a-3536-4d92-e2c1-1d5dd0f039aa"
      },
      "outputs": [
        {
          "output_type": "stream",
          "name": "stdout",
          "text": [
            "{1: [True, True, True, True, True, True], 2: [False, True, True, True, True, True], 3: [True, False, True, True, True, True], 4: [True, True, False, True, True, True], 5: [True, True, True, False, True, True], 6: [True, True, True, True, False, True], 7: [True, True, True, True, True, False]}\n",
            "Mail Sent to lakshmisailakshmi65@gmail.com\n",
            "Email not sent to lakshmisailakshmi65@gmail.com\n",
            "Email not sent to lakshmisailakshmi65@gmail.com\n",
            "Email not sent to lakshmisailakshmi65@gmail.com\n",
            "Email not sent to lakshmisailakshmi65@gmail.com\n",
            "Email not sent to lakshmisailakshmi65@gmail.com\n",
            "Email not sent to lakshmisailakshmi65@codegnan.com\n"
          ]
        }
      ],
      "source": [
        "import smtplib\n",
        "from email.mime.multipart import MIMEMultipart\n",
        "from email.mime.text import MIMEText\n",
        "import re\n",
        "import time\n",
        "def send_mail(tomail,fname,lname,gender,dob,mobile):\n",
        "    subject = \"Hello From Codegnan\"\n",
        "    body = f\"First Name: {fname}\\nLast Name: {lname}\\nGender: {gender} \\nDate of Birth: {dob} \\nMobile Number: {mobile}\"\n",
        "    msg = MIMEMultipart()\n",
        "    msg['From'] = \"lakshmisailakshmi65@gmail.com\"\n",
        "    msg['To'] = tomail\n",
        "    msg['Subject'] = subject\n",
        "    msg.attach(MIMEText(body,'plain'))\n",
        "\n",
        "    server = smtplib.SMTP(\"smtp.gmail.com\",587)\n",
        "    server.starttls()\n",
        "    server.login(\"lakshmisailakshmi65@gmail.com\",\"rcij fmqs bote rsbr\")\n",
        "    server.send_message(msg)\n",
        "    server.quit()\n",
        "f = open(\"details.txt\",\"r\")\n",
        "data = f.read()\n",
        "data1 = data.split(\"\\n\")\n",
        "maindata = {}\n",
        "temp = 1\n",
        "resdata = {}\n",
        "for i in data1:\n",
        "    maindata[temp] = i.split(\",\")\n",
        "    temp = temp + 1\n",
        "fnamepattern = r'^[A-Za-z ]+$'\n",
        "lnamepattern = r'^[A-Z]+$'\n",
        "genderpattern = r'^(MALE|FEMALE)$'\n",
        "dobpattern = r'^\\d{2}-\\d{2}-\\d{4}$'\n",
        "mobilepattern = r'^\\d{10}$'\n",
        "emailpattern = r'^.+@gmail.com$'\n",
        "for x in maindata:\n",
        "    resdata[x] = []\n",
        "    text = maindata[x][0]\n",
        "    matches = re.findall(fnamepattern,text)\n",
        "    if len(matches) == 0:\n",
        "        resdata[x].append(False)\n",
        "    else:\n",
        "        resdata[x].append(True)\n",
        "    text = maindata[x][1]\n",
        "    matches = re.findall(lnamepattern,text)\n",
        "    if len(matches) == 0:\n",
        "        resdata[x].append(False)\n",
        "    else:\n",
        "        resdata[x].append(True)\n",
        "    text = maindata[x][2]\n",
        "    matches = re.findall(mobilepattern,text)\n",
        "    if len(matches) == 0:\n",
        "        resdata[x].append(False)\n",
        "    else:\n",
        "        resdata[x].append(True)\n",
        "    text = maindata[x][3]\n",
        "    matches = re.findall(dobpattern,text)\n",
        "    if len(matches) == 0:\n",
        "        resdata[x].append(False)\n",
        "    else:\n",
        "        resdata[x].append(True)\n",
        "\n",
        "    text = maindata[x][4]\n",
        "    matches = re.findall(genderpattern,text)\n",
        "    if len(matches) == 0:\n",
        "        resdata[x].append(False)\n",
        "    else:\n",
        "        resdata[x].append(True)\n",
        "    text = maindata[x][5]\n",
        "    matches = re.findall(emailpattern,text)\n",
        "    if len(matches) == 0:\n",
        "        resdata[x].append(False)\n",
        "    else:\n",
        "        resdata[x].append(True)\n",
        "print(resdata)\n",
        "for val in resdata:\n",
        "    if False in resdata[val]:\n",
        "        print(f\"Email not sent to {maindata[val][-1]}\")\n",
        "        time.sleep(2)\n",
        "    else:\n",
        "        tomail = maindata[val][5]\n",
        "        fname = maindata[val][0]\n",
        "        lname = maindata[val][1]\n",
        "        gender = maindata[val][4]\n",
        "        dob = maindata[val][3]\n",
        "        mobile = maindata[val][2]\n",
        "        send_mail(tomail,fname,lname,gender,dob,mobile)\n",
        "        print(f\"Mail Sent to {tomail}\")"
      ]
    }
  ]
}